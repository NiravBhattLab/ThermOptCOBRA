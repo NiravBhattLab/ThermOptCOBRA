{
 "cells": [
  {
   "cell_type": "code",
   "execution_count": 3,
   "metadata": {},
   "outputs": [],
   "source": [
    "import pandas as pd\n",
    "import numpy as np\n",
    "import matplotlib.pyplot as plt\n",
    "import seaborn as sns"
   ]
  },
  {
   "cell_type": "code",
   "execution_count": 7,
   "metadata": {},
   "outputs": [
    {
     "data": {
      "text/html": [
       "<div>\n",
       "<style scoped>\n",
       "    .dataframe tbody tr th:only-of-type {\n",
       "        vertical-align: middle;\n",
       "    }\n",
       "\n",
       "    .dataframe tbody tr th {\n",
       "        vertical-align: top;\n",
       "    }\n",
       "\n",
       "    .dataframe thead th {\n",
       "        text-align: right;\n",
       "    }\n",
       "</style>\n",
       "<table border=\"1\" class=\"dataframe\">\n",
       "  <thead>\n",
       "    <tr style=\"text-align: right;\">\n",
       "      <th></th>\n",
       "      <th>MeM</th>\n",
       "      <th>Threshold</th>\n",
       "      <th>model</th>\n",
       "      <th>TIC_Count</th>\n",
       "    </tr>\n",
       "  </thead>\n",
       "  <tbody>\n",
       "    <tr>\n",
       "      <th>0</th>\n",
       "      <td>Fastcore</td>\n",
       "      <td>Global-80</td>\n",
       "      <td>E2199</td>\n",
       "      <td>4</td>\n",
       "    </tr>\n",
       "    <tr>\n",
       "      <th>1</th>\n",
       "      <td>Fastcore</td>\n",
       "      <td>Global-80</td>\n",
       "      <td>E2200</td>\n",
       "      <td>6</td>\n",
       "    </tr>\n",
       "    <tr>\n",
       "      <th>2</th>\n",
       "      <td>Fastcore</td>\n",
       "      <td>Global-80</td>\n",
       "      <td>E2201</td>\n",
       "      <td>4</td>\n",
       "    </tr>\n",
       "    <tr>\n",
       "      <th>3</th>\n",
       "      <td>Fastcore</td>\n",
       "      <td>Global-80</td>\n",
       "      <td>E2202</td>\n",
       "      <td>7</td>\n",
       "    </tr>\n",
       "    <tr>\n",
       "      <th>4</th>\n",
       "      <td>Fastcore</td>\n",
       "      <td>Global-80</td>\n",
       "      <td>E2203</td>\n",
       "      <td>1</td>\n",
       "    </tr>\n",
       "  </tbody>\n",
       "</table>\n",
       "</div>"
      ],
      "text/plain": [
       "        MeM  Threshold  model  TIC_Count\n",
       "0  Fastcore  Global-80  E2199          4\n",
       "1  Fastcore  Global-80  E2200          6\n",
       "2  Fastcore  Global-80  E2201          4\n",
       "3  Fastcore  Global-80  E2202          7\n",
       "4  Fastcore  Global-80  E2203          1"
      ]
     },
     "execution_count": 7,
     "metadata": {},
     "output_type": "execute_result"
    }
   ],
   "source": [
    "df = pd.read_csv('./ThemOptiCS/TIC_count_CSMs.csv')\n",
    "df = df[(df['MeM']=='Fastcore') | (df['MeM']=='TOCS')]\n",
    "df['Threshold'] = df['Threshold'].map({'GL':'Global-80','LG':'LocalGini','LT':'LocalT2','SD':'StanDep'})\n",
    "\n",
    "df.head()"
   ]
  },
  {
   "cell_type": "code",
   "execution_count": 9,
   "metadata": {},
   "outputs": [
    {
     "name": "stderr",
     "output_type": "stream",
     "text": [
      "C:\\Users\\rxpav\\AppData\\Local\\Temp\\ipykernel_33136\\2452256011.py:5: UserWarning: set_ticklabels() should only be used with a fixed number of ticks, i.e. after set_ticks() or using a FixedLocator.\n",
      "  ax.set_xticklabels(ax.get_xticklabels(),fontweight='bold')\n",
      "C:\\Users\\rxpav\\AppData\\Local\\Temp\\ipykernel_33136\\2452256011.py:6: UserWarning: set_ticklabels() should only be used with a fixed number of ticks, i.e. after set_ticks() or using a FixedLocator.\n",
      "  ax.set_yticklabels(ax.get_yticklabels(),fontweight='bold')\n"
     ]
    },
    {
     "data": {
      "image/png": "[encoded data removed]",
      "text/plain": [
       "<Figure size 1000x500 with 1 Axes>"
      ]
     },
     "metadata": {},
     "output_type": "display_data"
    }
   ],
   "source": [
    "fig,ax = plt.subplots(1,1,figsize=(10,5))\n",
    "sns.barplot(df, x=\"Threshold\", y=\"TIC_Count\", hue=\"MeM\",ax=ax)\n",
    "ax.set_xlabel('Type of Threshold',fontweight='bold',fontsize=15)\n",
    "ax.set_ylabel('Number of TICs',fontweight='bold',fontsize=15)\n",
    "ax.set_xticklabels(ax.get_xticklabels(),fontweight='bold')\n",
    "ax.set_yticklabels(ax.get_yticklabels(),fontweight='bold')\n",
    "ax.spines['top'].set_visible(False)\n",
    "ax.spines['right'].set_visible(False)\n",
    "ax.spines['bottom'].set_visible(False)\n",
    "plt.savefig('./ThemOptiCS/TIC_count_CSMs.pdf',bbox_inches='tight')"
   ]
  },
  {
   "cell_type": "code",
   "execution_count": null,
   "metadata": {},
   "outputs": [],
   "source": []
  }
 ],
 "metadata": {
  "kernelspec": {
   "display_name": "MOMI",
   "language": "python",
   "name": "python3"
  },
  "language_info": {
   "codemirror_mode": {
    "name": "ipython",
    "version": 3
   },
   "file_extension": ".py",
   "mimetype": "text/x-python",
   "name": "python",
   "nbconvert_exporter": "python",
   "pygments_lexer": "ipython3",
   "version": "3.10.14"
  }
 },
 "nbformat": 4,
 "nbformat_minor": 2
}
